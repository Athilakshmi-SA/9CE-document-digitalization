{
 "cells": [
  {
   "cell_type": "markdown",
   "id": "f684b863",
   "metadata": {},
   "source": [
    "# Aadhaar Card"
   ]
  },
  {
   "cell_type": "code",
   "execution_count": 3,
   "id": "71c1f92d",
   "metadata": {},
   "outputs": [
    {
     "name": "stdout",
     "output_type": "stream",
     "text": [
      "Aadhar Number: Not Found\n",
      "Name: Qeveujwin, Car Aishwarya, Wren, Female SSM, Lelie\n",
      "Date of Birth: 17/11/1999\n",
      "Gender: Female\n"
     ]
    }
   ],
   "source": [
    "import pytesseract\n",
    "from PIL import Image\n",
    "import re\n",
    "import nltk\n",
    "from nltk import word_tokenize, pos_tag, ne_chunk\n",
    "\n",
    "# Path to your Tesseract executable (update this)\n",
    "pytesseract.pytesseract.tesseract_cmd = r'C:\\Users\\asus\\tesseract.exe'\n",
    "\n",
    "# Path to the image of the Aadhaar card\n",
    "image_path = r\"D:\\\\aadhar.jpg\"\n",
    "\n",
    "# Perform OCR on the image\n",
    "img = Image.open(image_path)\n",
    "extracted_text = pytesseract.image_to_string(img, lang='eng')\n",
    "\n",
    "# Define regular expressions for extracting information\n",
    "aadhar_number_pattern = r'\\d{4}\\s\\d{4}\\s\\d{4}'\n",
    "dob_pattern = r'\\d{2}/\\d{2}/\\d{4}'\n",
    "gender_pattern = r'Female|Male'\n",
    "\n",
    "aadhar_number = re.search(aadhar_number_pattern, extracted_text)\n",
    "dob = re.search(dob_pattern, extracted_text)\n",
    "gender_match = re.search(gender_pattern, extracted_text)\n",
    "\n",
    "# Extract the information if found, or set it to 'Not Found'\n",
    "aadhar_number_value = aadhar_number.group() if aadhar_number else 'Not Found'\n",
    "dob_value = dob.group() if dob else 'Not Found'  # Fixed variable name\n",
    "gender_value = gender_match.group() if gender_match else 'Not Found'\n",
    "\n",
    "# Perform named entity recognition (NER) using nltk\n",
    "def extract_names(text):\n",
    "    names = []\n",
    "    for sent in nltk.sent_tokenize(text):\n",
    "        for chunk in nltk.ne_chunk(pos_tag(word_tokenize(sent))):\n",
    "            if hasattr(chunk, 'label') and chunk.label() == 'PERSON':\n",
    "                names.append(' '.join(c[0] for c in chunk.leaves()))\n",
    "    return names\n",
    "\n",
    "names = extract_names(extracted_text)\n",
    "\n",
    "# Print the extracted information\n",
    "print(f\"Aadhar Number: {aadhar_number_value}\")\n",
    "if names:\n",
    "    print(f\"Name: {', '.join(names)}\")\n",
    "else:\n",
    "    print(\"Name: Not Found\")\n",
    "print(f\"Date of Birth: {dob_value}\")\n",
    "print(f\"Gender: {gender_value}\")\n"
   ]
  },
  {
   "cell_type": "markdown",
   "id": "59958e96",
   "metadata": {},
   "source": [
    "# PanCard"
   ]
  },
  {
   "cell_type": "code",
   "execution_count": 12,
   "id": "0a7c9506",
   "metadata": {},
   "outputs": [
    {
     "name": "stdout",
     "output_type": "stream",
     "text": [
      "Name: Aa Uta\n",
      "Date of Birth: 10/06/1972\n",
      "PAN Number: PAN Number Not Found\n"
     ]
    }
   ],
   "source": [
    "import pytesseract\n",
    "from PIL import Image\n",
    "import re\n",
    "\n",
    "# Path to your Tesseract executable (update this)\n",
    "pytesseract.pytesseract.tesseract_cmd = r'C:\\Users\\asus\\tesseract.exe'\n",
    "\n",
    "# Path to the image of the PAN card\n",
    "image_path = r\"D:\\\\pan 2.jpeg\"\n",
    "\n",
    "# Perform OCR on the image\n",
    "img = Image.open(image_path)\n",
    "extracted_text = pytesseract.image_to_string(img, lang='eng')\n",
    "\n",
    "name_pattern = r'([A-Z][a-z]+ [A-Z][a-z]+)|([A-Z][a-z]+)'\n",
    "dob_pattern = r'\\d{2}/\\d{2}/\\d{4}'\n",
    "pan_number_pattern = r'[A-Z]{5}[0-9]{4}[A-Z]'\n",
    "\n",
    "# Extract keywords using regular expressions\n",
    "name_match = re.search(name_pattern, extracted_text)\n",
    "dob_match = re.search(dob_pattern, extracted_text)\n",
    "pan_number_match = re.search(pan_number_pattern, extracted_text)\n",
    "\n",
    "# Extracted keywords\n",
    "name = name_match.group() if name_match else \"Name Not Found\"\n",
    "dob = dob_match.group() if dob_match else \"DOB Not Found\"\n",
    "pan_number = pan_number_match.group() if pan_number_match else \"PAN Number Not Found\"\n",
    "\n",
    "# Print the extracted keywords\n",
    "print(f\"Name: {name}\")\n",
    "print(f\"Date of Birth: {dob}\")\n",
    "print(f\"PAN Number: {pan_number}\")\n",
    "\n"
   ]
  },
  {
   "cell_type": "code",
   "execution_count": null,
   "id": "122c7ac9",
   "metadata": {},
   "outputs": [],
   "source": []
  }
 ],
 "metadata": {
  "kernelspec": {
   "display_name": "Python 3 (ipykernel)",
   "language": "python",
   "name": "python3"
  },
  "language_info": {
   "codemirror_mode": {
    "name": "ipython",
    "version": 3
   },
   "file_extension": ".py",
   "mimetype": "text/x-python",
   "name": "python",
   "nbconvert_exporter": "python",
   "pygments_lexer": "ipython3",
   "version": "3.9.18"
  }
 },
 "nbformat": 4,
 "nbformat_minor": 5
}

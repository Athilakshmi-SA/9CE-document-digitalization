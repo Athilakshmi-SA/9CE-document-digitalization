{
 "cells": [
  {
   "cell_type": "code",
   "execution_count": 17,
   "id": "5a117591",
   "metadata": {
    "scrolled": false
   },
   "outputs": [
    {
     "name": "stderr",
     "output_type": "stream",
     "text": [
      "Traceback (most recent call last):\n",
      "  File \"C:\\Users\\asus\\mmdetection\\tools\\train.py\", line 10, in <module>\n",
      "    from mmcv import Config\n",
      "ImportError: cannot import name 'Config' from 'mmcv' (C:\\Users\\asus\\anaconda3\\lib\\site-packages\\mmcv\\__init__.py)\n"
     ]
    }
   ],
   "source": [
    "!python  C:/Users/asus/mmdetection/tools/train.py 'C:/Users/asus/mmdetection/cascade_mask_rcnn_r50_fpn_1x_coco.py'"
   ]
  },
  {
   "cell_type": "code",
   "execution_count": 14,
   "id": "1fd958d9",
   "metadata": {
    "scrolled": false
   },
   "outputs": [
    {
     "name": "stderr",
     "output_type": "stream",
     "text": [
      "WARNING: Ignoring invalid distribution -illow (c:\\users\\asus\\anaconda3\\lib\\site-packages)\n",
      "WARNING: Ignoring invalid distribution -pencv-python (c:\\users\\asus\\anaconda3\\lib\\site-packages)\n",
      "WARNING: Ignoring invalid distribution -illow (c:\\users\\asus\\anaconda3\\lib\\site-packages)\n",
      "WARNING: Ignoring invalid distribution -pencv-python (c:\\users\\asus\\anaconda3\\lib\\site-packages)\n",
      "DEPRECATION: pyodbc 4.0.0-unsupported has a non-standard version number. pip 23.3 will enforce this behaviour change. A possible replacement is to upgrade to a newer version of pyodbc or contact the author to suggest that they release a version with a conforming version number. Discussion can be found at https://github.com/pypa/pip/issues/12063\n"
     ]
    }
   ],
   "source": [
    "!pip install mmcv>=2.0.1"
   ]
  },
  {
   "cell_type": "code",
   "execution_count": 16,
   "id": "fb9ae065",
   "metadata": {},
   "outputs": [
    {
     "name": "stdout",
     "output_type": "stream",
     "text": [
      "Collecting mmcv==2.0.0\n",
      "  Downloading mmcv-2.0.0.tar.gz (473 kB)\n",
      "     ------------------------------------ 473.2/473.2 kB 688.9 kB/s eta 0:00:00\n",
      "  Preparing metadata (setup.py): started\n",
      "  Preparing metadata (setup.py): finished with status 'done'\n",
      "Requirement already satisfied: addict in c:\\users\\asus\\anaconda3\\lib\\site-packages (from mmcv==2.0.0) (2.4.0)\n",
      "Requirement already satisfied: mmengine>=0.2.0 in c:\\users\\asus\\anaconda3\\lib\\site-packages (from mmcv==2.0.0) (0.8.4)\n",
      "Requirement already satisfied: numpy in c:\\users\\asus\\anaconda3\\lib\\site-packages (from mmcv==2.0.0) (1.22.4)\n",
      "Requirement already satisfied: packaging in c:\\users\\asus\\anaconda3\\lib\\site-packages (from mmcv==2.0.0) (23.1)\n",
      "Requirement already satisfied: Pillow in c:\\users\\asus\\anaconda3\\lib\\site-packages (from mmcv==2.0.0) (10.0.0)\n",
      "Requirement already satisfied: pyyaml in c:\\users\\asus\\anaconda3\\lib\\site-packages (from mmcv==2.0.0) (6.0)\n",
      "Requirement already satisfied: yapf in c:\\users\\asus\\anaconda3\\lib\\site-packages (from mmcv==2.0.0) (0.31.0)\n",
      "Requirement already satisfied: regex in c:\\users\\asus\\anaconda3\\lib\\site-packages (from mmcv==2.0.0) (2021.8.3)\n",
      "Requirement already satisfied: matplotlib in c:\\users\\asus\\anaconda3\\lib\\site-packages (from mmengine>=0.2.0->mmcv==2.0.0) (3.4.3)\n",
      "Requirement already satisfied: rich in c:\\users\\asus\\anaconda3\\lib\\site-packages (from mmengine>=0.2.0->mmcv==2.0.0) (13.3.5)\n",
      "Requirement already satisfied: termcolor in c:\\users\\asus\\anaconda3\\lib\\site-packages (from mmengine>=0.2.0->mmcv==2.0.0) (1.1.0)\n",
      "Requirement already satisfied: opencv-python>=3 in c:\\users\\asus\\anaconda3\\lib\\site-packages (from mmengine>=0.2.0->mmcv==2.0.0) (4.8.0.76)\n",
      "Requirement already satisfied: cycler>=0.10 in c:\\users\\asus\\anaconda3\\lib\\site-packages (from matplotlib->mmengine>=0.2.0->mmcv==2.0.0) (0.10.0)\n",
      "Requirement already satisfied: kiwisolver>=1.0.1 in c:\\users\\asus\\anaconda3\\lib\\site-packages (from matplotlib->mmengine>=0.2.0->mmcv==2.0.0) (1.3.1)\n",
      "Requirement already satisfied: pyparsing>=2.2.1 in c:\\users\\asus\\anaconda3\\lib\\site-packages (from matplotlib->mmengine>=0.2.0->mmcv==2.0.0) (2.4.7)\n",
      "Requirement already satisfied: python-dateutil>=2.7 in c:\\users\\asus\\anaconda3\\lib\\site-packages (from matplotlib->mmengine>=0.2.0->mmcv==2.0.0) (2.8.2)\n",
      "Requirement already satisfied: markdown-it-py<3.0.0,>=2.2.0 in c:\\users\\asus\\anaconda3\\lib\\site-packages (from rich->mmengine>=0.2.0->mmcv==2.0.0) (2.2.0)\n",
      "Requirement already satisfied: pygments<3.0.0,>=2.13.0 in c:\\users\\asus\\anaconda3\\lib\\site-packages (from rich->mmengine>=0.2.0->mmcv==2.0.0) (2.15.1)\n",
      "Requirement already satisfied: six in c:\\users\\asus\\anaconda3\\lib\\site-packages (from cycler>=0.10->matplotlib->mmengine>=0.2.0->mmcv==2.0.0) (1.15.0)\n",
      "Requirement already satisfied: mdurl~=0.1 in c:\\users\\asus\\anaconda3\\lib\\site-packages (from markdown-it-py<3.0.0,>=2.2.0->rich->mmengine>=0.2.0->mmcv==2.0.0) (0.1.2)\n",
      "Building wheels for collected packages: mmcv\n",
      "  Building wheel for mmcv (setup.py): started\n",
      "  Building wheel for mmcv (setup.py): still running...\n",
      "  Building wheel for mmcv (setup.py): still running...\n",
      "  Building wheel for mmcv (setup.py): finished with status 'done'\n",
      "  Created wheel for mmcv: filename=mmcv-2.0.0-cp39-cp39-win_amd64.whl size=1049215 sha256=0d878177e2b9c155bb24d09d9febc9aef6dc982eeda5a802fae74de87aadfa5f\n",
      "  Stored in directory: c:\\users\\asus\\appdata\\local\\pip\\cache\\wheels\\1b\\64\\bd\\12c67416b3f5113fe4e4be4eb04ec78d1110c8b4d7bc56e7ce\n",
      "Successfully built mmcv\n",
      "Installing collected packages: mmcv\n",
      "  Attempting uninstall: mmcv\n",
      "    Found existing installation: mmcv 0.4.3\n",
      "    Uninstalling mmcv-0.4.3:\n",
      "      Successfully uninstalled mmcv-0.4.3\n",
      "Successfully installed mmcv-2.0.0\n"
     ]
    },
    {
     "name": "stderr",
     "output_type": "stream",
     "text": [
      "WARNING: Ignoring invalid distribution -illow (c:\\users\\asus\\anaconda3\\lib\\site-packages)\n",
      "WARNING: Ignoring invalid distribution -pencv-python (c:\\users\\asus\\anaconda3\\lib\\site-packages)\n",
      "WARNING: Ignoring invalid distribution -illow (c:\\users\\asus\\anaconda3\\lib\\site-packages)\n",
      "WARNING: Ignoring invalid distribution -pencv-python (c:\\users\\asus\\anaconda3\\lib\\site-packages)\n",
      "DEPRECATION: pyodbc 4.0.0-unsupported has a non-standard version number. pip 23.3 will enforce this behaviour change. A possible replacement is to upgrade to a newer version of pyodbc or contact the author to suggest that they release a version with a conforming version number. Discussion can be found at https://github.com/pypa/pip/issues/12063\n"
     ]
    },
    {
     "name": "stdout",
     "output_type": "stream",
     "text": [
      "Collecting mmcv==2.0.0\n",
      "  Using cached mmcv-2.0.0.tar.gz (473 kB)\n",
      "  Preparing metadata (setup.py): started\n"
     ]
    },
    {
     "name": "stderr",
     "output_type": "stream",
     "text": [
      "WARNING: Ignoring invalid distribution -illow (c:\\users\\asus\\anaconda3\\lib\\site-packages)\n",
      "WARNING: Ignoring invalid distribution -pencv-python (c:\\users\\asus\\anaconda3\\lib\\site-packages)\n",
      "WARNING: Error parsing requirements for mmcv: [Errno 2] No such file or directory: 'c:\\\\users\\\\asus\\\\anaconda3\\\\lib\\\\site-packages\\\\mmcv-0.4.3.dist-info\\\\METADATA'\n",
      "WARNING: Ignoring invalid distribution -illow (c:\\users\\asus\\anaconda3\\lib\\site-packages)\n",
      "WARNING: Ignoring invalid distribution -pencv-python (c:\\users\\asus\\anaconda3\\lib\\site-packages)\n",
      "DEPRECATION: pyodbc 4.0.0-unsupported has a non-standard version number. pip 23.3 will enforce this behaviour change. A possible replacement is to upgrade to a newer version of pyodbc or contact the author to suggest that they release a version with a conforming version number. Discussion can be found at https://github.com/pypa/pip/issues/12063\n",
      "    WARNING: No metadata found in c:\\users\\asus\\anaconda3\\lib\\site-packages\n"
     ]
    },
    {
     "name": "stdout",
     "output_type": "stream",
     "text": [
      "  Preparing metadata (setup.py): finished with status 'done'\n",
      "Requirement already satisfied: addict in c:\\users\\asus\\anaconda3\\lib\\site-packages (from mmcv==2.0.0) (2.4.0)\n",
      "Requirement already satisfied: mmengine>=0.2.0 in c:\\users\\asus\\anaconda3\\lib\\site-packages (from mmcv==2.0.0) (0.8.4)\n",
      "Requirement already satisfied: numpy in c:\\users\\asus\\anaconda3\\lib\\site-packages (from mmcv==2.0.0) (1.22.4)\n",
      "Requirement already satisfied: packaging in c:\\users\\asus\\anaconda3\\lib\\site-packages (from mmcv==2.0.0) (23.1)\n",
      "Requirement already satisfied: Pillow in c:\\users\\asus\\anaconda3\\lib\\site-packages (from mmcv==2.0.0) (10.0.0)\n",
      "Requirement already satisfied: pyyaml in c:\\users\\asus\\anaconda3\\lib\\site-packages (from mmcv==2.0.0) (6.0)\n",
      "Requirement already satisfied: yapf in c:\\users\\asus\\anaconda3\\lib\\site-packages (from mmcv==2.0.0) (0.31.0)\n",
      "Requirement already satisfied: regex in c:\\users\\asus\\anaconda3\\lib\\site-packages (from mmcv==2.0.0) (2021.8.3)\n",
      "Requirement already satisfied: matplotlib in c:\\users\\asus\\anaconda3\\lib\\site-packages (from mmengine>=0.2.0->mmcv==2.0.0) (3.4.3)\n",
      "Requirement already satisfied: rich in c:\\users\\asus\\anaconda3\\lib\\site-packages (from mmengine>=0.2.0->mmcv==2.0.0) (13.3.5)\n",
      "Requirement already satisfied: termcolor in c:\\users\\asus\\anaconda3\\lib\\site-packages (from mmengine>=0.2.0->mmcv==2.0.0) (1.1.0)\n",
      "Requirement already satisfied: opencv-python>=3 in c:\\users\\asus\\anaconda3\\lib\\site-packages (from mmengine>=0.2.0->mmcv==2.0.0) (4.8.0.76)\n",
      "Requirement already satisfied: cycler>=0.10 in c:\\users\\asus\\anaconda3\\lib\\site-packages (from matplotlib->mmengine>=0.2.0->mmcv==2.0.0) (0.10.0)\n",
      "Requirement already satisfied: kiwisolver>=1.0.1 in c:\\users\\asus\\anaconda3\\lib\\site-packages (from matplotlib->mmengine>=0.2.0->mmcv==2.0.0) (1.3.1)\n",
      "Requirement already satisfied: pyparsing>=2.2.1 in c:\\users\\asus\\anaconda3\\lib\\site-packages (from matplotlib->mmengine>=0.2.0->mmcv==2.0.0) (2.4.7)\n",
      "Requirement already satisfied: python-dateutil>=2.7 in c:\\users\\asus\\anaconda3\\lib\\site-packages (from matplotlib->mmengine>=0.2.0->mmcv==2.0.0) (2.8.2)\n",
      "Requirement already satisfied: markdown-it-py<3.0.0,>=2.2.0 in c:\\users\\asus\\anaconda3\\lib\\site-packages (from rich->mmengine>=0.2.0->mmcv==2.0.0) (2.2.0)\n",
      "Requirement already satisfied: pygments<3.0.0,>=2.13.0 in c:\\users\\asus\\anaconda3\\lib\\site-packages (from rich->mmengine>=0.2.0->mmcv==2.0.0) (2.15.1)\n",
      "Requirement already satisfied: six in c:\\users\\asus\\anaconda3\\lib\\site-packages (from cycler>=0.10->matplotlib->mmengine>=0.2.0->mmcv==2.0.0) (1.15.0)\n",
      "Requirement already satisfied: mdurl~=0.1 in c:\\users\\asus\\anaconda3\\lib\\site-packages (from markdown-it-py<3.0.0,>=2.2.0->rich->mmengine>=0.2.0->mmcv==2.0.0) (0.1.2)\n",
      "Building wheels for collected packages: mmcv\n",
      "  Building wheel for mmcv (setup.py): started\n",
      "  Building wheel for mmcv (setup.py): still running...\n",
      "  Building wheel for mmcv (setup.py): still running...\n",
      "  Building wheel for mmcv (setup.py): finished with status 'done'\n",
      "  Created wheel for mmcv: filename=mmcv-2.0.0-cp39-cp39-win_amd64.whl size=1049215 sha256=10ce97557dfc9b090efa98251f17ab4dc08a49f8c95aa9b9c048c27b80e7b03b\n",
      "  Stored in directory: c:\\users\\asus\\appdata\\local\\pip\\cache\\wheels\\1b\\64\\bd\\12c67416b3f5113fe4e4be4eb04ec78d1110c8b4d7bc56e7ce\n",
      "Successfully built mmcv\n",
      "Installing collected packages: mmcv\n",
      "  Attempting uninstall: mmcv\n",
      "    Found existing installation: mmcv 0.4.3\n",
      "    Can't uninstall 'mmcv'. No files were found to uninstall.\n",
      "Successfully installed mmcv-2.0.0\n"
     ]
    }
   ],
   "source": [
    "!pip install mmcv==2.0.0"
   ]
  },
  {
   "cell_type": "code",
   "execution_count": 18,
   "id": "f18f3e54",
   "metadata": {
    "scrolled": true
   },
   "outputs": [
    {
     "name": "stdout",
     "output_type": "stream",
     "text": [
      "Name: mmcv\n",
      "Version: 2.0.0\n",
      "Summary: OpenMMLab Computer Vision Foundation\n",
      "Home-page: https://github.com/open-mmlab/mmcv\n",
      "Author: MMCV Contributors\n",
      "Author-email: openmmlab@gmail.com\n",
      "License: \n",
      "Location: c:\\users\\asus\\anaconda3\\lib\\site-packages\n",
      "Requires: addict, mmengine, numpy, packaging, Pillow, pyyaml, regex, yapf\n",
      "Required-by: \n",
      "Note: you may need to restart the kernel to use updated packages.\n"
     ]
    },
    {
     "name": "stderr",
     "output_type": "stream",
     "text": [
      "WARNING: Ignoring invalid distribution -illow (c:\\users\\asus\\anaconda3\\lib\\site-packages)\n",
      "WARNING: Ignoring invalid distribution -pencv-python (c:\\users\\asus\\anaconda3\\lib\\site-packages)\n"
     ]
    }
   ],
   "source": [
    "pip show mmcv"
   ]
  },
  {
   "cell_type": "code",
   "execution_count": 24,
   "id": "3db60618",
   "metadata": {
    "scrolled": true
   },
   "outputs": [
    {
     "name": "stderr",
     "output_type": "stream",
     "text": [
      "Traceback (most recent call last):\n",
      "  File \"C:\\Users\\asus\\mmdetection\\tools\\train.py\", line 10, in <module>\n",
      "    from mmcv import Config\n",
      "ImportError: cannot import name 'Config' from 'mmcv' (C:\\Users\\asus\\anaconda3\\lib\\site-packages\\mmcv\\__init__.py)\n"
     ]
    }
   ],
   "source": [
    "!python  C:/Users/asus/mmdetection/tools/train.py 'C:/Users/asus/mmdetection/cascade_mask_rcnn_r50_fpn_1x_coco.py'"
   ]
  },
  {
   "cell_type": "code",
   "execution_count": 26,
   "id": "2035b09f",
   "metadata": {},
   "outputs": [],
   "source": [
    "from mmengine.config import Config"
   ]
  },
  {
   "cell_type": "code",
   "execution_count": 27,
   "id": "7472e7f9",
   "metadata": {
    "scrolled": false
   },
   "outputs": [
    {
     "name": "stderr",
     "output_type": "stream",
     "text": [
      "Traceback (most recent call last):\n",
      "  File \"C:\\Users\\asus\\mmdetection\\tools\\train.py\", line 10, in <module>\n",
      "    from mmcv import Config\n",
      "ImportError: cannot import name 'Config' from 'mmcv' (C:\\Users\\asus\\anaconda3\\lib\\site-packages\\mmcv\\__init__.py)\n"
     ]
    }
   ],
   "source": [
    "!python  C:/Users/asus/mmdetection/tools/train.py 'C:/Users/asus/mmdetection/cascade_mask_rcnn_r50_fpn_1x_coco.py'"
   ]
  },
  {
   "cell_type": "code",
   "execution_count": 1,
   "id": "7e259b0d",
   "metadata": {
    "scrolled": true
   },
   "outputs": [
    {
     "ename": "ImportError",
     "evalue": "cannot import name 'Config' from 'mmcv' (C:\\Users\\asus\\anaconda3\\lib\\site-packages\\mmcv\\__init__.py)",
     "output_type": "error",
     "traceback": [
      "\u001b[1;31m---------------------------------------------------------------------------\u001b[0m",
      "\u001b[1;31mImportError\u001b[0m                               Traceback (most recent call last)",
      "\u001b[1;32m~\\AppData\\Local\\Temp/ipykernel_31592/2519504920.py\u001b[0m in \u001b[0;36m<module>\u001b[1;34m\u001b[0m\n\u001b[1;32m----> 1\u001b[1;33m \u001b[1;32mfrom\u001b[0m \u001b[0mmmcv\u001b[0m \u001b[1;32mimport\u001b[0m \u001b[0mConfig\u001b[0m\u001b[1;33m\u001b[0m\u001b[1;33m\u001b[0m\u001b[0m\n\u001b[0m",
      "\u001b[1;31mImportError\u001b[0m: cannot import name 'Config' from 'mmcv' (C:\\Users\\asus\\anaconda3\\lib\\site-packages\\mmcv\\__init__.py)"
     ]
    }
   ],
   "source": [
    "from mmcv import Config"
   ]
  },
  {
   "cell_type": "code",
   "execution_count": null,
   "id": "bcb9116e",
   "metadata": {},
   "outputs": [],
   "source": []
  }
 ],
 "metadata": {
  "kernelspec": {
   "display_name": "Python 3 (ipykernel)",
   "language": "python",
   "name": "python3"
  },
  "language_info": {
   "codemirror_mode": {
    "name": "ipython",
    "version": 3
   },
   "file_extension": ".py",
   "mimetype": "text/x-python",
   "name": "python",
   "nbconvert_exporter": "python",
   "pygments_lexer": "ipython3",
   "version": "3.9.7"
  }
 },
 "nbformat": 4,
 "nbformat_minor": 5
}

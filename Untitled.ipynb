{
 "cells": [
  {
   "cell_type": "code",
   "execution_count": 1,
   "id": "72f28c14",
   "metadata": {},
   "outputs": [],
   "source": [
    "from PIL import Image\n",
    "import pytesseract\n",
    "import argparse\n",
    "import cv2\n",
    "import os\n",
    "import pandas as pd\n",
    "import seaborn as sns\n",
    "import matplotlib.pyplot as plt\n",
    "import numpy as np\n",
    "import csv\n",
    "import nltk\n",
    "import re\n",
    "from nltk.tokenize import word_tokenize\n",
    "from nltk.corpus import wordnet "
   ]
  },
  {
   "cell_type": "code",
   "execution_count": 11,
   "id": "daf89b37",
   "metadata": {},
   "outputs": [],
   "source": [
    "image=cv2.imread(\"D:\\\\1 rcpt.jpg\")"
   ]
  },
  {
   "cell_type": "code",
   "execution_count": 12,
   "id": "62a80cc1",
   "metadata": {},
   "outputs": [
    {
     "name": "stdout",
     "output_type": "stream",
     "text": [
      "#10 t.v.k road, (opp. sathyam cinema),\n",
      "royapettah, chennai-600014\n",
      "\n",
      "gstin no; 33aawfr9367d1zm\n",
      "\n",
      "fssai code : 12419002005265\n",
      "phone ; 044-48555563, 48503030\n",
      "e-mail: rotticious@gmail:com\n",
      "\n",
      "invoice\n",
      "\n",
      "inv no # roy00004432\n",
      "date 22/09/2023 1:11pm\n",
      "\n",
      "dine in- ts\n",
      "\n",
      "item name qty price dis sub\n",
      "\n",
      "three cheese pasta | 170 170\n",
      "\n",
      "ad. mushroom l 50 50\n",
      "\n",
      "cheese corn balls 1 160 160\n",
      "\n",
      "gendral item 1 250 250\n",
      "‘total 630\n",
      "\n",
      "teattikaannicake\n",
      "\n"
     ]
    }
   ],
   "source": [
    "text=(pytesseract.image_to_string(image)).lower()\n",
    "print(text)"
   ]
  },
  {
   "cell_type": "code",
   "execution_count": 13,
   "id": "064dd82d",
   "metadata": {},
   "outputs": [
    {
     "name": "stdout",
     "output_type": "stream",
     "text": [
      "22/09/2023\n"
     ]
    }
   ],
   "source": [
    "#identify the date\n",
    "\n",
    "match=re.findall(r'\\d+[/.-]\\d+[/.-]\\d+', text)\n",
    "\n",
    "st=\" \"\n",
    "st=st.join(match)\n",
    "print(st)"
   ]
  },
  {
   "cell_type": "code",
   "execution_count": 14,
   "id": "47e26073",
   "metadata": {},
   "outputs": [
    {
     "data": {
      "text/plain": [
       "True"
      ]
     },
     "execution_count": 14,
     "metadata": {},
     "output_type": "execute_result"
    }
   ],
   "source": [
    "nltk.download('punkt',quiet=True)\n",
    "nltk.download('wordnet',quiet=True)"
   ]
  },
  {
   "cell_type": "code",
   "execution_count": 15,
   "id": "1ea0ac9d",
   "metadata": {},
   "outputs": [
    {
     "data": {
      "text/plain": [
       "'#10 t.v.k road, (opp.'"
      ]
     },
     "execution_count": 15,
     "metadata": {},
     "output_type": "execute_result"
    }
   ],
   "source": [
    "#lets try to extract title\n",
    "sent_tokens=nltk.sent_tokenize(text)\n",
    "#print(sent_tokens)\n",
    "sent_tokens[0].splitlines()[0]"
   ]
  },
  {
   "cell_type": "code",
   "execution_count": 16,
   "id": "20df9ed7",
   "metadata": {},
   "outputs": [
    {
     "ename": "ValueError",
     "evalue": "max() arg is an empty sequence",
     "output_type": "error",
     "traceback": [
      "\u001b[1;31m---------------------------------------------------------------------------\u001b[0m",
      "\u001b[1;31mValueError\u001b[0m                                Traceback (most recent call last)",
      "Cell \u001b[1;32mIn[16], line 4\u001b[0m\n\u001b[0;32m      2\u001b[0m price\u001b[38;5;241m=\u001b[39mre\u001b[38;5;241m.\u001b[39mfindall(\u001b[38;5;124mr\u001b[39m\u001b[38;5;124m'\u001b[39m\u001b[38;5;124m[\u001b[39m\u001b[38;5;124m\\\u001b[39m\u001b[38;5;124m$\u001b[39m\u001b[38;5;124m\\\u001b[39m\u001b[38;5;124m£\u001b[39m\u001b[38;5;124m\\\u001b[39m\u001b[38;5;124m€](\u001b[39m\u001b[38;5;124m\\\u001b[39m\u001b[38;5;124md+(?:\u001b[39m\u001b[38;5;124m\\\u001b[39m\u001b[38;5;124m.\u001b[39m\u001b[38;5;124m\\\u001b[39m\u001b[38;5;124md\u001b[39m\u001b[38;5;124m{\u001b[39m\u001b[38;5;124m1,2})?)\u001b[39m\u001b[38;5;124m'\u001b[39m,text)\n\u001b[0;32m      3\u001b[0m price \u001b[38;5;241m=\u001b[39m \u001b[38;5;28mlist\u001b[39m(\u001b[38;5;28mmap\u001b[39m(\u001b[38;5;28mfloat\u001b[39m,price)) \n\u001b[1;32m----> 4\u001b[0m \u001b[38;5;28mprint\u001b[39m(\u001b[38;5;28;43mmax\u001b[39;49m\u001b[43m(\u001b[49m\u001b[43mprice\u001b[49m\u001b[43m)\u001b[49m)\n\u001b[0;32m      5\u001b[0m x\u001b[38;5;241m=\u001b[39m\u001b[38;5;28mmax\u001b[39m(price)\n",
      "\u001b[1;31mValueError\u001b[0m: max() arg is an empty sequence"
     ]
    }
   ],
   "source": [
    "#lets find the price of the category.\n",
    "price=re.findall(r'[\\$\\£\\€](\\d+(?:\\.\\d{1,2})?)',text)\n",
    "price = list(map(float,price)) \n",
    "print(max(price))\n",
    "x=max(price)  "
   ]
  },
  {
   "cell_type": "code",
   "execution_count": 17,
   "id": "2f79001b",
   "metadata": {},
   "outputs": [
    {
     "name": "stdout",
     "output_type": "stream",
     "text": [
      "['#', '10', 't.v.k', 'road', ',', '(', 'opp', '.', 'sathyam', 'cinema', ')', ',', 'royapettah', ',', 'chennai-600014', 'gstin', 'no', ';', '33aawfr9367d1zm', 'fssai', 'code', ':', '12419002005265', 'phone', ';', '044-48555563', ',', '48503030', 'e-mail', ':', 'rotticious', '@', 'gmail', ':', 'com', 'invoice', 'inv', 'no', '#', 'roy00004432', 'date', '22/09/2023', '1:11pm', 'dine', 'in-', 'ts', 'item', 'name', 'qty', 'price', 'dis', 'sub', 'three', 'cheese', 'pasta', '|', '170', '170', 'ad', '.', 'mushroom', 'l', '50', '50', 'cheese', 'corn', 'balls', '1', '160', '160', 'gendral', 'item', '1', '250', '250', '‘', 'total', '630', 'teattikaannicake']\n"
     ]
    }
   ],
   "source": [
    "#till here we have extracted date,title and amount.\n",
    "#now its time to categorise bill whether it is shopping or grocery like wise\n",
    "#so i will first tokenise the text and search for key words\n",
    "print(word_tokenize(text))"
   ]
  },
  {
   "cell_type": "code",
   "execution_count": 18,
   "id": "aed5332d",
   "metadata": {},
   "outputs": [
    {
     "name": "stdout",
     "output_type": "stream",
     "text": [
      "['10', 't', 'v', 'k', 'road', 'opp', 'sathyam', 'cinema', 'royapettah', 'chennai', '600014', 'gstin', 'no', '33aawfr9367d1zm', 'fssai', 'code', '12419002005265', 'phone', '044', '48555563', '48503030', 'e', 'mail', 'rotticious', 'gmail', 'com', 'invoice', 'inv', 'no', 'roy00004432', 'date', '22', '09', '2023', '1', '11pm', 'dine', 'in', 'ts', 'item', 'name', 'qty', 'price', 'dis', 'sub', 'three', 'cheese', 'pasta', '170', '170', 'ad', 'mushroom', 'l', '50', '50', 'cheese', 'corn', 'balls', '1', '160', '160', 'gendral', 'item', '1', '250', '250', 'total', '630', 'teattikaannicake']\n"
     ]
    }
   ],
   "source": [
    "#we will remove punctuation\n",
    "tokenizer = nltk.RegexpTokenizer(r\"\\w+\")\n",
    "new_words = tokenizer.tokenize(text)\n",
    "print(new_words)"
   ]
  },
  {
   "cell_type": "code",
   "execution_count": 19,
   "id": "76d29880",
   "metadata": {},
   "outputs": [
    {
     "name": "stderr",
     "output_type": "stream",
     "text": [
      "[nltk_data] Downloading package stopwords to\n",
      "[nltk_data]     C:\\Users\\asus\\AppData\\Roaming\\nltk_data...\n",
      "[nltk_data]   Unzipping corpora\\stopwords.zip.\n"
     ]
    },
    {
     "data": {
      "text/plain": [
       "True"
      ]
     },
     "execution_count": 19,
     "metadata": {},
     "output_type": "execute_result"
    }
   ],
   "source": [
    "#stop_words = set(nltk.corpus.stopwords.words('english')) \n",
    "nltk.download('stopwords')"
   ]
  },
  {
   "cell_type": "code",
   "execution_count": 20,
   "id": "98475572",
   "metadata": {},
   "outputs": [],
   "source": [
    "#there are stop words like a ,an,the etc which are not required\n",
    "#so we need to filter them\n",
    "stop_words = set(nltk.corpus.stopwords.words('english')) "
   ]
  },
  {
   "cell_type": "code",
   "execution_count": 21,
   "id": "24750e33",
   "metadata": {},
   "outputs": [
    {
     "name": "stdout",
     "output_type": "stream",
     "text": [
      "['10', 'v', 'k', 'road', 'opp', 'sathyam', 'cinema', 'royapettah', 'chennai', '600014', 'gstin', '33aawfr9367d1zm', 'fssai', 'code', '12419002005265', 'phone', '044', '48555563', '48503030', 'e', 'mail', 'rotticious', 'gmail', 'com', 'invoice', 'inv', 'roy00004432', 'date', '22', '09', '2023', '1', '11pm', 'dine', 'ts', 'item', 'name', 'qty', 'price', 'dis', 'sub', 'three', 'cheese', 'pasta', '170', '170', 'ad', 'mushroom', 'l', '50', '50', 'cheese', 'corn', 'balls', '1', '160', '160', 'gendral', 'item', '1', '250', '250', 'total', '630', 'teattikaannicake']\n"
     ]
    }
   ],
   "source": [
    "#there is the filetred list\n",
    "filtered_list=[w for w in new_words if w not in stop_words ]\n",
    "print(filtered_list)"
   ]
  },
  {
   "cell_type": "code",
   "execution_count": 22,
   "id": "0d70f3be",
   "metadata": {},
   "outputs": [],
   "source": [
    "\n",
    "#entertainment\n",
    "entertainment = [] \n",
    "for syn in wordnet.synsets(\"entertainment\"): \n",
    "    for l in syn.lemmas(): \n",
    "        entertainment.append(l.name()) \n",
    "        \n",
    "l=['happy','restaurant','food','kitchen','hotel','room','park','movie','cinema','popcorn','combo meal']\n",
    "entertainment=entertainment+l"
   ]
  },
  {
   "cell_type": "code",
   "execution_count": 23,
   "id": "aa135936",
   "metadata": {},
   "outputs": [],
   "source": [
    "\n",
    "#home utility\n",
    "home_utility=[] \n",
    "for syn in wordnet.synsets(\"home\"): \n",
    "    for l in syn.lemmas(): \n",
    "         home_utility.append(l.name()) \n",
    "l2=['internet','telephone','elecricity','meter','wifi','broadband','consumer','reading','gas','water','postpaid','prepaid']\n",
    "home_utility+=l2\n"
   ]
  },
  {
   "cell_type": "code",
   "execution_count": 24,
   "id": "8a05d3df",
   "metadata": {},
   "outputs": [],
   "source": [
    "\n",
    "#grocery\n",
    " \n",
    "grocery=[] \n",
    "for syn in wordnet.synsets(\"grocery\"): \n",
    "    for l in syn.lemmas(): \n",
    "         grocery.append(l.name())\n",
    "l3=['bigbasket','milk','atta','sugar','suflower','oil','bread','vegetabe','fruit','salt','paneer']\n",
    "grocery+=l3\n"
   ]
  },
  {
   "cell_type": "code",
   "execution_count": 25,
   "id": "564cd9e1",
   "metadata": {},
   "outputs": [],
   "source": [
    "\n",
    "#investment\n",
    "investment=[] \n",
    "for syn in wordnet.synsets(\"investment\"): \n",
    "    for l in syn.lemmas(): \n",
    "         investment.append(l.name()) \n",
    "l1=['endowment','grant','loan','applicant','income','expenditure','profit','interest','expense','finance','property','money','fixed','deposit','kissan','vikas']\n",
    "investment=investment+l1"
   ]
  },
  {
   "cell_type": "code",
   "execution_count": 26,
   "id": "1bd738e6",
   "metadata": {},
   "outputs": [],
   "source": [
    "\n",
    "#travel and transportation\n",
    "transport=[]\n",
    "for syn in wordnet.synsets(\"car\"): \n",
    "    for l in syn.lemmas(): \n",
    "         transport.append(l.name()) \n",
    "l4=['cab','ola','uber','autorickshaw','railway','air','emirates','aerofloat','taxi','booking','road','highway']\n",
    "transport+=l4"
   ]
  },
  {
   "cell_type": "code",
   "execution_count": 27,
   "id": "b0a3e436",
   "metadata": {},
   "outputs": [],
   "source": [
    "\n",
    "#shopping\n",
    "shopping=[]\n",
    "for syn in wordnet.synsets(\"dress\"): \n",
    "    for l in syn.lemmas(): \n",
    "         shopping.append(l.name()) \n",
    "l4=['iphone','laptop','saree','max','pantaloons','westside','vedic','makeup','lipstick','cosmetics','mac','facewash','heels','crocs','footwear','purse']\n",
    "shopping+=l4"
   ]
  },
  {
   "cell_type": "code",
   "execution_count": 31,
   "id": "aad64647",
   "metadata": {},
   "outputs": [],
   "source": [
    "#here we will check that the bill belongs to which category\n",
    "#we will make that category true.\n",
    "for word in filtered_list:\n",
    "    if word in entertainment:\n",
    "        e=True\n",
    "        break\n",
    "    elif word in investment:\n",
    "        inv=True\n",
    "        break\n",
    "    elif word in grocery:\n",
    "        g=True\n",
    "        break\n",
    "    elif word in shopping:\n",
    "        s=True\n",
    "        break\n",
    "    elif word in transport:\n",
    "        t=True\n",
    "        break\n",
    "    elif word in home_utility:\n",
    "        h=True\n",
    "        break\n"
   ]
  },
  {
   "cell_type": "code",
   "execution_count": 32,
   "id": "f46a8ae9",
   "metadata": {},
   "outputs": [
    {
     "data": {
      "text/plain": [
       "\"with open('entertainment1.csv', 'a', newline='') as csvfile:\\n    spamwriter = csv.writer(csvfile, delimiter=',',quoting=csv.QUOTE_MINIMAL)\\n    spamwriter.writerow(['date','organisation','amount'])\""
      ]
     },
     "execution_count": 32,
     "metadata": {},
     "output_type": "execute_result"
    }
   ],
   "source": [
    "#this is how i created all the csv files.\n",
    "'''with open('entertainment1.csv', 'a', newline='') as csvfile:\n",
    "    spamwriter = csv.writer(csvfile, delimiter=',',quoting=csv.QUOTE_MINIMAL)\n",
    "    spamwriter.writerow(['date','organisation','amount'])'''"
   ]
  },
  {
   "cell_type": "code",
   "execution_count": 33,
   "id": "17928cda",
   "metadata": {
    "scrolled": true
   },
   "outputs": [
    {
     "ename": "NameError",
     "evalue": "name 'e' is not defined",
     "output_type": "error",
     "traceback": [
      "\u001b[1;31m---------------------------------------------------------------------------\u001b[0m",
      "\u001b[1;31mNameError\u001b[0m                                 Traceback (most recent call last)",
      "Cell \u001b[1;32mIn[33], line 5\u001b[0m\n\u001b[0;32m      1\u001b[0m \u001b[38;5;66;03m#question 2\u001b[39;00m\n\u001b[0;32m      2\u001b[0m \u001b[38;5;66;03m#this code the category in which the bill belongs to\u001b[39;00m\n\u001b[0;32m      3\u001b[0m \u001b[38;5;66;03m#if e is true then entertainment categrory and we will ,ake filename as entertainment.csv using\u001b[39;00m\n\u001b[0;32m      4\u001b[0m \u001b[38;5;66;03m#formatting\u001b[39;00m\n\u001b[1;32m----> 5\u001b[0m \u001b[38;5;28;01mif\u001b[39;00m(\u001b[43me\u001b[49m):\n\u001b[0;32m      6\u001b[0m     \u001b[38;5;28mprint\u001b[39m(\u001b[38;5;124m\"\u001b[39m\u001b[38;5;124mentertainment category\u001b[39m\u001b[38;5;124m\"\u001b[39m)\n\u001b[0;32m      7\u001b[0m     filename\u001b[38;5;241m=\u001b[39m\u001b[38;5;124m'\u001b[39m\u001b[38;5;132;01m{}\u001b[39;00m\u001b[38;5;124m.csv\u001b[39m\u001b[38;5;124m'\u001b[39m\u001b[38;5;241m.\u001b[39mformat(\u001b[38;5;124m'\u001b[39m\u001b[38;5;124mentertainment\u001b[39m\u001b[38;5;124m'\u001b[39m)\n",
      "\u001b[1;31mNameError\u001b[0m: name 'e' is not defined"
     ]
    }
   ],
   "source": [
    "#question 2\n",
    "#this code the category in which the bill belongs to\n",
    "#if e is true then entertainment categrory and we will ,ake filename as entertainment.csv using\n",
    "#formatting\n",
    "if(e):\n",
    "    print(\"entertainment category\")\n",
    "    filename='{}.csv'.format('entertainment')\n",
    "    #df=pd.read_csv('entertainment.csv')\n",
    "elif(inv):\n",
    "    print(\"investment category\")\n",
    "    filename='{}.csv'.format('investment')\n",
    "    #df=pd.read_csv('investment.csv')\n",
    "elif(s):\n",
    "    print(\"shopping category\")\n",
    "    filename='{}.csv'.format('shopping')\n",
    "    #df=pd.read_csv('shopping.csv')\n",
    "elif(g):\n",
    "    print(\"grocery category\")\n",
    "    filename='{}.csv'.format('grocery')\n",
    "    #df=pd.read_csv('grocery.csv')\n",
    "elif(t):\n",
    "    print(\"transport category\")\n",
    "    filename='{}.csv'.format('transport')\n",
    "    #df=pd.read_csv('transport.csv')\n",
    "elif(h):\n",
    "    print(\"home utility category\")\n",
    "    filename='{}.csv'.format('home')\n",
    "    #df=pd.read_csv('home.csv')\n",
    "else:\n",
    "    print(\"others\")\n",
    "    filename='{}.csv'.format('others')\n",
    "    #df=pd.read_csv('others.csv')"
   ]
  },
  {
   "cell_type": "code",
   "execution_count": null,
   "id": "8c8ac6a4",
   "metadata": {},
   "outputs": [],
   "source": []
  }
 ],
 "metadata": {
  "kernelspec": {
   "display_name": "Python 3 (ipykernel)",
   "language": "python",
   "name": "python3"
  },
  "language_info": {
   "codemirror_mode": {
    "name": "ipython",
    "version": 3
   },
   "file_extension": ".py",
   "mimetype": "text/x-python",
   "name": "python",
   "nbconvert_exporter": "python",
   "pygments_lexer": "ipython3",
   "version": "3.9.18"
  }
 },
 "nbformat": 4,
 "nbformat_minor": 5
}
